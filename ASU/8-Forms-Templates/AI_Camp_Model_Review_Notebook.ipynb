{
 "cells": [
  {
   "cell_type": "markdown",
   "id": "3a2f3e73",
   "metadata": {},
   "source": [
    "# 🛰️ AI Camp: Post-Mission Model Review\n",
    "Welcome to your post-mission review notebook. Use this to reflect on your model’s performance, log insights, and identify next steps for improving your AI system."
   ]
  },
  {
   "cell_type": "markdown",
   "id": "0f396379",
   "metadata": {},
   "source": [
    "## 🔍 Model Performance & Evaluation\n",
    "Answer these questions to understand how your model performed during the mission."
   ]
  },
  {
   "cell_type": "code",
   "execution_count": null,
   "id": "c209c70f",
   "metadata": {},
   "outputs": [],
   "source": [
    "# Q1: 1. What was your model’s accuracy overall?"
   ]
  },
  {
   "cell_type": "code",
   "execution_count": null,
   "id": "1a5ec2bb",
   "metadata": {},
   "outputs": [],
   "source": [
    "# Q2: 2. Which class had the most misclassifications?"
   ]
  },
  {
   "cell_type": "code",
   "execution_count": null,
   "id": "e0f77cdb",
   "metadata": {},
   "outputs": [],
   "source": [
    "# Q3: 3. Paste or describe your confusion matrix below. What does it reveal?"
   ]
  },
  {
   "cell_type": "code",
   "execution_count": null,
   "id": "b7147b39",
   "metadata": {},
   "outputs": [],
   "source": [
    "# Q4: 4. Did your model seem biased toward certain predictions?"
   ]
  },
  {
   "cell_type": "code",
   "execution_count": null,
   "id": "30f55f9b",
   "metadata": {},
   "outputs": [],
   "source": [
    "# Q5: 5. What were your most frequent false positives or negatives?"
   ]
  },
  {
   "cell_type": "code",
   "execution_count": null,
   "id": "8a05b12a",
   "metadata": {},
   "outputs": [],
   "source": [
    "# Q6: 6. What confidence threshold did you use for predictions?"
   ]
  },
  {
   "cell_type": "code",
   "execution_count": null,
   "id": "346c0dd9",
   "metadata": {},
   "outputs": [],
   "source": [
    "# Q7: 7. How did confidence levels vary by class?"
   ]
  },
  {
   "cell_type": "markdown",
   "id": "10e52d0e",
   "metadata": {},
   "source": [
    "## 🧱 Data & Training Review\n",
    "These questions help you analyze your data setup and any modeling assumptions."
   ]
  },
  {
   "cell_type": "code",
   "execution_count": null,
   "id": "ccf5850c",
   "metadata": {},
   "outputs": [],
   "source": [
    "# Q8: 8. How many images did you use per class?"
   ]
  },
  {
   "cell_type": "code",
   "execution_count": null,
   "id": "13542fa4",
   "metadata": {},
   "outputs": [],
   "source": [
    "# Q9: 9. Did you use any data augmentation? If so, what kinds?"
   ]
  },
  {
   "cell_type": "code",
   "execution_count": null,
   "id": "fac28c6f",
   "metadata": {},
   "outputs": [],
   "source": [
    "# Q10: 10. Was your dataset balanced?"
   ]
  },
  {
   "cell_type": "code",
   "execution_count": null,
   "id": "8845ea38",
   "metadata": {},
   "outputs": [],
   "source": [
    "# Q11: 11. What training/testing split did you use?"
   ]
  },
  {
   "cell_type": "code",
   "execution_count": null,
   "id": "030d8b96",
   "metadata": {},
   "outputs": [],
   "source": [
    "# Q12: 12. What problems (e.g., duplication, leakage) did you face in your dataset?"
   ]
  },
  {
   "cell_type": "markdown",
   "id": "71e397a2",
   "metadata": {},
   "source": [
    "## 🤖 Model Design & Deployment\n",
    "Review your model architecture and deployment decisions."
   ]
  },
  {
   "cell_type": "code",
   "execution_count": null,
   "id": "9ad8e1c5",
   "metadata": {},
   "outputs": [],
   "source": [
    "# Q13: 13. What model architecture did you use (e.g., MobileNet, custom CNN)?"
   ]
  },
  {
   "cell_type": "code",
   "execution_count": null,
   "id": "c79206a5",
   "metadata": {},
   "outputs": [],
   "source": [
    "# Q14: 14. How did you convert/export the model (e.g., to TFLite)?"
   ]
  },
  {
   "cell_type": "code",
   "execution_count": null,
   "id": "3170c411",
   "metadata": {},
   "outputs": [],
   "source": [
    "# Q15: 15. Did your deployed model behave differently from your test model?"
   ]
  },
  {
   "cell_type": "code",
   "execution_count": null,
   "id": "c4bfcf0a",
   "metadata": {},
   "outputs": [],
   "source": [
    "# Q16: 16. What tradeoffs did you make (speed vs accuracy)?"
   ]
  },
  {
   "cell_type": "code",
   "execution_count": null,
   "id": "d384b840",
   "metadata": {},
   "outputs": [],
   "source": [
    "# Q17: 17. What would you improve in your next training cycle?"
   ]
  },
  {
   "cell_type": "markdown",
   "id": "6b27c632",
   "metadata": {},
   "source": [
    "## 🧠 Summary & Next Steps\n",
    "Write 2-3 sentences on how this review will inform your next experiment or deployment."
   ]
  }
 ],
 "metadata": {},
 "nbformat": 4,
 "nbformat_minor": 5
}
